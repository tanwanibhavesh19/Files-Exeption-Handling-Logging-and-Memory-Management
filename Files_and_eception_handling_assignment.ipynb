{
  "nbformat": 4,
  "nbformat_minor": 0,
  "metadata": {
    "colab": {
      "provenance": []
    },
    "kernelspec": {
      "name": "python3",
      "display_name": "Python 3"
    },
    "language_info": {
      "name": "python"
    }
  },
  "cells": [
    {
      "cell_type": "markdown",
      "source": [
        "#**Files, Exeption Handling, Logging, and Memory Management**"
      ],
      "metadata": {
        "id": "qEOfltNn0SQw"
      }
    },
    {
      "cell_type": "markdown",
      "source": [
        "#**Theoratical Questions**\n",
        "\n",
        "1. What is the difference between interpreted and compiled languages ?\n",
        "  - Compiled languages translate the entire program into machine code (or bytecode) before executiob.\n",
        "  - while interpreted languages translate and execute code line by line.\n",
        "\n",
        "2.  What is exception handling in Python ?\n",
        "  - In Python, exception handling is a mechanism to manage errors that occur during program execution.\n",
        "  - When an error, also known as an exception, is raised, the program's normal flow is interrupted.\n",
        "\n",
        "3.  What is the purpose of the finally block in exception handling ?\n",
        "  - The purpose of the finally block in exception handling is to ensure that certain code, often cleanup tasks like closing files or releasing resources, is executed regardless of whether an exception was thrown or caught in the try block.\n",
        "  - This guarantees that crucial operations, such as releasing resources, always occur, even in the presence of exceptions, preventing potential resource leaks and ensuring program stability.\n",
        "\n",
        "4.  What is logging in Python ?\n",
        "  - Python logging is a module that allows you to track events that occur while your program is running.\n",
        "  - You can use logging to record information about errors, warnings, and other events that occur during program execution.\n",
        "\n",
        "5. What is the significance of the __ del __ method in Python ?\n",
        "  - The __ del __ method in Python is a powerful tool for managing resource cleanup when objects are destroyed.\n",
        "  - It allows you to define specific actions that should be taken when an object is garbage collected, such as closing files, releasing locks, or closing network connections.\n",
        "\n",
        "6.  What is the difference between import and from ... import in Python ?\n",
        "  - The difference between import and from import in Python is:\n",
        "  - import imports an entire code library.\n",
        "  - from import imports a specific member or members of the library.\n",
        "\n",
        "7.  How can you handle multiple exceptions in Python ?\n",
        "  - In Python, you can handle multiple exceptions using a try-except block with multiple except clauses or by using a single except clause with a tuple of exception types.\n",
        "  - When using multiple except clauses, each clause handles a specific exception type. If a single except clause with a tuple is used, it handles all exceptions listed in the tuple in the same way.\n",
        "\n",
        "8. What is the purpose of the with statement when handling files in Python ?\n",
        "  - The purpose of the with statement in Python file handling is to streamline resource management, ensuring files are opened and closed automatically, and that the code within the with block executes even if exceptions are raised.\n",
        "  - This simplifies file operations and reduces the risk of resource leaks.\n",
        "\n",
        "9.  What is the difference between multithreading and multiprocessing ?\n",
        "  -  Multithreading involves creating multiple threads within a single process, allowing them to share the same memory space and resources.\n",
        "  - Multiprocessing, on the other hand, creates multiple independent processes, each with its own memory space, and relies on inter-process communication (IPC) to share data.\n",
        "\n",
        "10.  What are the advantages of using logging in a program ?\n",
        "  - Logging offers significant advantages in software development, including improved debugging, performance monitoring, security enhancements, and compliance.\n",
        "  - It provides a structured way to track events, errors, and performance metrics, making it easier to identify and resolve issues.\n",
        "  - Furthermore, logs can be used for various purposes like event tracing, request tracing, and security auditing.\n",
        "\n",
        "11. What is memory management in Python ?\n",
        "  - In Python, memory management is the process of allocating and deallocating memory for objects and data structures during program execution.\n",
        "  - Python handles this automatically, meaning developers generally don't need to manually allocate or free memory.\n",
        "  - This is done through a private heap, where all Python objects are stored, and the Python memory manager handles allocation and deallocation.\n",
        "\n",
        "12. What are the basic steps involved in exception handling in Python ?\n",
        "  - Exception handling in Python involves using try, except, else, and finally blocks to gracefully handle errors that might occur during program execution. - The try block contains code that might raise an exception.\n",
        "  - If an exception occurs, the except block handles it. The else block executes if no exception is raised in the try block.\n",
        "  - The finally block always executes, regardless of whether an exception occurred or not, and is often used for cleanup tasks.\n",
        "\n",
        "13. Why is memory management important in Python ?\n",
        "  - Python uses automatic memory management, primarily relying on a private heap and object-specific allocators, ensuring efficient allocation and deallocation of memory for objects.\n",
        "  - This process is managed by Python's internal memory manager, which leverages reference counting and garbage collection to track and reclaim unused memory.\n",
        "\n",
        "14.  What is the role of try and except in exception handling ?\n",
        "  - In exception handling, the try and except blocks work together to gracefully manage errors that might occur during code execution.\n",
        "  - The try block contains the code that might potentially raise an exception, while the except block provides instructions for handling that exception if it occurs.\n",
        "\n",
        "15.  How does Python's garbage collection system work ?\n",
        "  -Python's garbage collection is a hybrid system that primarily uses reference counting and incorporates a mark-and-sweep algorithm for handling circular references. Reference counting keeps track of how many variables are referencing an object; when the count reaches zero, the object is deallocated. The mark-and-sweep algorithm is used to identify and collect objects with circular references that reference counting alone cannot handle.\n",
        "\n",
        "16.  What is the purpose of the else block in exception handling ?\n",
        "  - The else block in exception handling, often used in try...except...else structures, executes when no exceptions are raised within the try block.\n",
        "  - It's used to perform actions that should only run when the try block executes successfully, providing a way to handle positive outcomes after a potentially risky operation.\n",
        "\n",
        "17.  What are the common logging levels in Python ?\n",
        "  - Python logging supports multiple levels of severity, such as DEBUG , INFO , WARNING , ERROR , and CRITICAL , allowing you to categorize and filter log messages effectively.\n",
        "\n",
        "18. What is the difference between os.fork() and multiprocessing in Python ?\n",
        "  - os.fork() creates a new process by copying the current one. It's low-level, works only on Unix/Linux, and needs manual handling.\n",
        "  - multiprocessing is a high-level module that makes it easy to run code in separate processes. It's cross-platform and safer to use.\n",
        "\n",
        "19.  What is the importance of closing a file in Python ?\n",
        "  - Closing files in Python is an essential practice that helps maintain data integrity, prevent resource leaks, and ensure the reliability of your applications\n",
        "\n",
        "20.  What is the difference between file.read() and file.readline() in Python /\n",
        "  - In Python, file.read() reads the entire content of a file into a single string, while file.readline() reads one line at a time, returning each line as a separate string. If no argument is provided to read(), it reads the entire file. readline() reads up to the next newline character (\\n).\n",
        "\n",
        "21. What is the logging module in Python used for ?\n",
        "  - he logging module in Python is a tool used to record events that occur during the execution of a program.\n",
        "  -  It's a powerful way to track errors, warnings, and informational messages, which is helpful for debugging, troubleshooting, and monitoring your application.\n",
        "\n",
        "22.  What is the os module in Python used for in file handling ?\n",
        "  - The os module in Python is used in file handling to create, delete, rename, move, and check files and directories, and to work with file paths and the current working directory.\n",
        "\n",
        "23. What are the challenges associated with memory management in Python ?\n",
        "  - Python uses a combination of reference counting and garbage collection for memory management. Reference counting tracks how many times an object is referenced, and when the count reaches zero, the object is eligible for garbage collection. The garbage collector then identifies and deallocates memory occupied by those objects, preventing memory leaks.\n",
        "\n",
        "24.  How do you raise an exception manually in Python ?\n",
        "  - As a Python developer you can choose to throw an exception if a condition occurs. To throw (or raise) an exception, use the raise keyword.\n",
        "\n",
        "25. Why is it important to use multithreading in certain applications ?\n",
        "  - Multithreading is important in applications to improve performance, responsiveness, and resource utilization, especially in scenarios involving parallel execution or handling multiple requests simultaneously.\n",
        "  - It allows tasks to be executed concurrently, potentially speeding up overall application execution and improving user experience."
      ],
      "metadata": {
        "id": "7Ixac7oh0oaJ"
      }
    },
    {
      "cell_type": "markdown",
      "source": [
        "#**PRACTICAL QUESTIONS**"
      ],
      "metadata": {
        "id": "n5jV4XwjukvW"
      }
    },
    {
      "cell_type": "code",
      "execution_count": null,
      "metadata": {
        "id": "LdMe_rrp0C5r"
      },
      "outputs": [],
      "source": [
        "#1. How can you open a file for writing in Python and write a string to it\n",
        "\n",
        "with open(\"example.txt\", \"w\") as file:\n",
        "    file.write(\"Hello, world!\")\n"
      ]
    },
    {
      "cell_type": "code",
      "source": [
        "#2.  Write a Python program to read the contents of a file and print each line\n",
        "\n",
        "# Open the file in read mode\n",
        "with open(\"example.txt\", \"r\") as file:\n",
        "    # Loop through each line and print it\n",
        "    for line in file:\n",
        "        print(line.strip())  # .strip() removes the newline character\n"
      ],
      "metadata": {
        "id": "CW3wVdtKuxwu"
      },
      "execution_count": null,
      "outputs": []
    },
    {
      "cell_type": "code",
      "source": [
        "#3. How would you handle a case where the file doesn't exist while trying to open it for reading\n",
        "\n",
        "try:\n",
        "    with open(\"example.txt\", \"r\") as file:\n",
        "        for line in file:\n",
        "            print(line.strip())\n",
        "except FileNotFoundError:\n",
        "    print(\"File not found. Please check the file name or path.\")\n"
      ],
      "metadata": {
        "id": "beC-KiYmu5em"
      },
      "execution_count": null,
      "outputs": []
    },
    {
      "cell_type": "code",
      "source": [
        "#4.Write a Python script that reads from one file and writes its content to another file\n",
        "\n",
        "# Read from source file and write to destination file\n",
        "with open(\"source.txt\", \"r\") as source_file:\n",
        "    content = source_file.read()\n",
        "\n",
        "with open(\"destination.txt\", \"w\") as destination_file:\n",
        "    destination_file.write(content)\n",
        "\n",
        "print(\"Content copied successfully.\")\n"
      ],
      "metadata": {
        "id": "RDiAIjkyvA3W"
      },
      "execution_count": null,
      "outputs": []
    },
    {
      "cell_type": "code",
      "source": [
        "#5.How would you catch and handle division by zero error in Python\n",
        "\n",
        "try:\n",
        "    result = 10 / 0\n",
        "except ZeroDivisionError:\n",
        "    print(\"Error: Cannot divide by zero.\")\n"
      ],
      "metadata": {
        "id": "caE1Y4rZvHbv"
      },
      "execution_count": null,
      "outputs": []
    },
    {
      "cell_type": "code",
      "source": [
        "#6.  Write a Python program that logs an error message to a log file when a division by zero exception occurs\n",
        "\n",
        "import logging\n",
        "\n",
        "# Set up logging to a file\n",
        "logging.basicConfig(filename=\"error_log.txt\", level=logging.ERROR)\n",
        "\n",
        "try:\n",
        "    result = 10 / 0\n",
        "except ZeroDivisionError as e:\n",
        "    logging.error(f\"Error: {e} - Division by zero occurred.\")\n",
        "    print(\"Error: Cannot divide by zero. Check the log file for details.\")\n"
      ],
      "metadata": {
        "id": "j_ZY6ncGvP4e"
      },
      "execution_count": null,
      "outputs": []
    },
    {
      "cell_type": "code",
      "source": [
        "#7.  How do you log information at different levels (INFO, ERROR, WARNING) in Python using the logging module\n",
        "\n",
        "import logging\n",
        "\n",
        "# Set up logging configuration\n",
        "logging.basicConfig(filename=\"app.log\", level=logging.DEBUG, format=\"%(asctime)s - %(levelname)s - %(message)s\")\n",
        "\n",
        "# Log at different levels\n",
        "logging.debug(\"This is a debug message.\")\n",
        "logging.info(\"This is an info message.\")\n",
        "logging.warning(\"This is a warning message.\")\n",
        "logging.error(\"This is an error message.\")\n",
        "logging.critical(\"This is a critical message.\")\n"
      ],
      "metadata": {
        "id": "wSjYVzjyvWft"
      },
      "execution_count": null,
      "outputs": []
    },
    {
      "cell_type": "code",
      "source": [
        "#8.Write a program to handle a file opening error using exception handling\n",
        "\n",
        "try:\n",
        "    # Attempt to open a file that may not exist\n",
        "    with open(\"non_existent_file.txt\", \"r\") as file:\n",
        "        content = file.read()\n",
        "        print(content)\n",
        "except FileNotFoundError:\n",
        "    print(\"Error: The file does not exist.\")\n",
        "except IOError:\n",
        "    print(\"Error: An error occurred while opening or reading the file.\")\n"
      ],
      "metadata": {
        "id": "1MNY_tfzvds9"
      },
      "execution_count": null,
      "outputs": []
    },
    {
      "cell_type": "code",
      "source": [
        "#9. How can you read a file line by line and store its content in a list in Python\n",
        "\n",
        "# Initialize an empty list to store the lines\n",
        "lines = []\n",
        "\n",
        "# Open the file in read mode\n",
        "with open(\"example.txt\", \"r\") as file:\n",
        "    # Read each line and append to the list\n",
        "    for line in file:\n",
        "        lines.append(line.strip())  # .strip() removes newline characters\n",
        "\n",
        "# Print the list to see the result\n",
        "print(lines)\n"
      ],
      "metadata": {
        "id": "WTSGrM09vj03"
      },
      "execution_count": null,
      "outputs": []
    },
    {
      "cell_type": "code",
      "source": [
        "#10.  How can you append data to an existing file in Python\n",
        "\n",
        "# Open the file in append mode\n",
        "with open(\"example.txt\", \"a\") as file:\n",
        "    # Write data to the file\n",
        "    file.write(\"This is the new data being appended.\\n\")\n"
      ],
      "metadata": {
        "id": "OjcI1mAVvpue"
      },
      "execution_count": null,
      "outputs": []
    },
    {
      "cell_type": "code",
      "source": [
        "#11.  Write a Python program that uses a try-except block to handle an error when attempting to access a dictionary key that doesn't exist\n",
        "\n",
        "my_dict = {\"name\": \"Alice\", \"age\": 25}\n",
        "\n",
        "try:\n",
        "    # Attempt to access a non-existent key\n",
        "    value = my_dict[\"address\"]\n",
        "except KeyError:\n",
        "    print(\"Error: The key 'address' does not exist in the dictionary.\")\n"
      ],
      "metadata": {
        "id": "vB7OxkImvwCV"
      },
      "execution_count": null,
      "outputs": []
    },
    {
      "cell_type": "code",
      "source": [
        "#12. Write a program that demonstrates using multiple except blocks to handle different types of exceptions\n",
        "\n",
        "try:\n",
        "    # Attempt to perform different operations\n",
        "    number = int(input(\"Enter a number: \"))  # Could raise ValueError\n",
        "    result = 10 / number  # Could raise ZeroDivisionError\n",
        "    print(f\"The result is {result}\")\n",
        "\n",
        "except ValueError:\n",
        "    print(\"Error: Invalid input. Please enter a valid number.\")\n",
        "\n",
        "except ZeroDivisionError:\n",
        "    print(\"Error: Division by zero is not allowed.\")\n",
        "\n",
        "except Exception as e:\n",
        "    print(f\"An unexpected error occurred: {e}\")\n"
      ],
      "metadata": {
        "id": "LDQioUK3v2_t"
      },
      "execution_count": null,
      "outputs": []
    },
    {
      "cell_type": "code",
      "source": [
        "#13. How would you check if a file exists before attempting to read it in Python\n",
        "\n",
        "import os\n",
        "\n",
        "# Specify the file path\n",
        "file_path = \"example.txt\"\n",
        "\n",
        "# Check if the file exists\n",
        "if os.path.exists(file_path):\n",
        "    with open(file_path, \"r\") as file:\n",
        "        content = file.read()\n",
        "        print(content)\n",
        "else:\n",
        "    print(\"Error: The file does not exist.\")\n"
      ],
      "metadata": {
        "id": "-_PB2rUnv9Wu"
      },
      "execution_count": null,
      "outputs": []
    },
    {
      "cell_type": "code",
      "source": [
        "#14. Write a program that uses the logging module to log both informational and error messages\n",
        "\n",
        "import logging\n",
        "\n",
        "# Set up the logging configuration\n",
        "logging.basicConfig(filename=\"app.log\", level=logging.DEBUG, format=\"%(asctime)s - %(levelname)s - %(message)s\")\n",
        "\n",
        "# Log an informational message\n",
        "logging.info(\"This is an informational message.\")\n",
        "\n",
        "# Log a warning message\n",
        "logging.warning(\"This is a warning message.\")\n",
        "\n",
        "# Log an error message\n",
        "try:\n",
        "    result = 10 / 0  # This will raise a ZeroDivisionError\n",
        "except ZeroDivisionError as e:\n",
        "    logging.error(f\"Error: {e} - Division by zero occurred.\")\n",
        "\n",
        "# Log a critical message\n",
        "logging.critical(\"This is a critical message.\")\n"
      ],
      "metadata": {
        "id": "rUDHKyR0wC2-"
      },
      "execution_count": null,
      "outputs": []
    },
    {
      "cell_type": "code",
      "source": [
        "#15. Write a Python program that prints the content of a file and handles the case when the file is empty\n",
        "\n",
        "try:\n",
        "    # Open the file in read mode\n",
        "    with open(\"example.txt\", \"r\") as file:\n",
        "        content = file.read()\n",
        "\n",
        "        # Check if the file is empty\n",
        "        if not content:\n",
        "            print(\"The file is empty.\")\n",
        "        else:\n",
        "            print(\"File content:\")\n",
        "            print(content)\n",
        "\n",
        "except FileNotFoundError:\n",
        "    print(\"Error: The file does not exist.\")\n",
        "except IOError:\n",
        "    print(\"Error: An error occurred while opening or reading the file.\")\n"
      ],
      "metadata": {
        "id": "u2agqbIiwIC2"
      },
      "execution_count": null,
      "outputs": []
    },
    {
      "cell_type": "code",
      "source": [
        "#16.Demonstrate how to use memory profiling to check the memory usage of a small program\n",
        "\n",
        "from memory_profiler import profile\n",
        "\n",
        "@profile\n",
        "def my_function():\n",
        "    # Create a list with large number of elements\n",
        "    my_list = [i for i in range(100000)]\n",
        "\n",
        "    # Perform some simple operations\n",
        "    my_sum = sum(my_list)\n",
        "\n",
        "    return my_sum\n",
        "\n",
        "if __name__ == \"__main__\":\n",
        "    my_function()\n"
      ],
      "metadata": {
        "id": "-rnE0avewOZe"
      },
      "execution_count": null,
      "outputs": []
    },
    {
      "cell_type": "code",
      "source": [
        "#17.  Write a Python program to create and write a list of numbers to a file, one number per line\n",
        "\n",
        "# List of numbers\n",
        "numbers = [1, 2, 3, 4, 5, 6, 7, 8, 9, 10]\n",
        "\n",
        "# Open the file in write mode\n",
        "with open(\"numbers.txt\", \"w\") as file:\n",
        "    # Write each number to the file, one per line\n",
        "    for number in numbers:\n",
        "        file.write(f\"{number}\\n\")\n",
        "\n",
        "print(\"Numbers have been written to 'numbers.txt'.\")\n"
      ],
      "metadata": {
        "id": "WgTjd-93wU8X"
      },
      "execution_count": null,
      "outputs": []
    },
    {
      "cell_type": "code",
      "source": [
        "#18. How would you implement a basic logging setup that logs to a file with rotation after 1MB\n",
        "\n",
        "import logging\n",
        "from logging.handlers import RotatingFileHandler\n",
        "\n",
        "# Set up the logger\n",
        "logger = logging.getLogger(\"my_logger\")\n",
        "logger.setLevel(logging.DEBUG)  # Log everything (DEBUG and above)\n",
        "\n",
        "# Set up a rotating file handler with a maximum file size of 1MB and 3 backup files\n",
        "handler = RotatingFileHandler(\"app.log\", maxBytes=1048576, backupCount=3)\n",
        "handler.setLevel(logging.DEBUG)  # Log everything to the file\n",
        "\n",
        "# Create a log format\n",
        "formatter = logging.Formatter('%(asctime)s - %(levelname)s - %(message)s')\n",
        "handler.setFormatter(formatter)\n",
        "\n",
        "# Add the handler to the logger\n",
        "logger.addHandler(handler)\n",
        "\n",
        "# Example log messages\n",
        "logger.debug(\"This is a debug message.\")\n",
        "logger.info(\"This is an info message.\")\n",
        "logger.warning(\"This is a warning message.\")\n",
        "logger.error(\"This is an error message.\")\n",
        "logger.critical(\"This is a critical message.\")\n",
        "\n"
      ],
      "metadata": {
        "id": "YZUEJb9bwbDe"
      },
      "execution_count": null,
      "outputs": []
    },
    {
      "cell_type": "code",
      "source": [
        "#19. Write a program that handles both IndexError and KeyError using a try-except block\n",
        "\n",
        "# Example data\n",
        "my_list = [1, 2, 3]\n",
        "my_dict = {\"name\": \"Alice\", \"age\": 25}\n",
        "\n",
        "try:\n",
        "    # Attempting to access an invalid index in the list\n",
        "    print(my_list[5])  # This will raise an IndexError\n",
        "\n",
        "    # Attempting to access a non-existent key in the dictionary\n",
        "    print(my_dict[\"address\"])  # This will raise a KeyError\n",
        "\n",
        "except IndexError:\n",
        "    print(\"Error: List index out of range.\")\n",
        "\n",
        "except KeyError:\n",
        "    print(\"Error: Key not found in dictionary.\")\n",
        "\n"
      ],
      "metadata": {
        "id": "B8SjyxQ1wh3N"
      },
      "execution_count": null,
      "outputs": []
    },
    {
      "cell_type": "code",
      "source": [
        "#20. How would you open a file and read its contents using a context manager in Python\n",
        "\n",
        "# Open the file using a context manager and read its contents\n",
        "with open(\"example.txt\", \"r\") as file:\n",
        "    content = file.read()  # Read the entire content of the file\n",
        "\n",
        "# After the 'with' block, the file is automatically closed\n",
        "print(content)\n"
      ],
      "metadata": {
        "id": "U8k8M05HwoHm"
      },
      "execution_count": null,
      "outputs": []
    },
    {
      "cell_type": "code",
      "source": [
        "#21. Write a Python program that reads a file and prints the number of occurrences of a specific word\n",
        "\n",
        "# Define the word to search for\n",
        "word_to_search = \"Python\"\n",
        "\n",
        "# Initialize a counter for the occurrences\n",
        "count = 0\n",
        "\n",
        "# Open the file and read its contents\n",
        "try:\n",
        "    with open(\"example.txt\", \"r\") as file:\n",
        "        # Loop through each line in the file\n",
        "        for line in file:\n",
        "            # Count the occurrences of the word in each line\n",
        "            count += line.lower().split().count(word_to_search.lower())\n",
        "\n",
        "    # Print the result\n",
        "    print(f\"The word '{word_to_search}' occurred {count} times in the file.\")\n",
        "\n",
        "except FileNotFoundError:\n",
        "    print(\"Error: The file does not exist.\")\n"
      ],
      "metadata": {
        "id": "-uVqGJPCwt4u"
      },
      "execution_count": null,
      "outputs": []
    },
    {
      "cell_type": "code",
      "source": [
        "#22. How can you check if a file is empty before attempting to read its contents\n",
        "\n",
        "import os\n",
        "\n",
        "# Specify the file path\n",
        "file_path = \"example.txt\"\n",
        "\n",
        "# Check if the file is empty by checking its size\n",
        "if os.stat(file_path).st_size == 0:\n",
        "    print(\"The file is empty.\")\n",
        "else:\n",
        "    with open(file_path, \"r\") as file:\n",
        "        content = file.read()\n",
        "        print(\"File content:\")\n",
        "        print(content)\n"
      ],
      "metadata": {
        "id": "njZoBTMswze1"
      },
      "execution_count": null,
      "outputs": []
    },
    {
      "cell_type": "code",
      "source": [
        "#23.  Write a Python program that writes to a log file when an error occurs during file handling.\n",
        "\n",
        "import logging\n",
        "\n",
        "# Set up logging configuration to write to a log file\n",
        "logging.basicConfig(filename=\"file_operations.log\", level=logging.ERROR,\n",
        "                    format=\"%(asctime)s - %(levelname)s - %(message)s\")\n",
        "\n",
        "try:\n",
        "    # Try to open a file in read mode (this file might not exist)\n",
        "    with open(\"example.txt\", \"r\") as file:\n",
        "        content = file.read()\n",
        "        print(content)\n",
        "\n",
        "except FileNotFoundError as e:\n",
        "    # Log the error to the log file when a FileNotFoundError occurs\n",
        "    logging.error(f\"Error: {e} - The file does not exist.\")\n",
        "\n",
        "except IOError as e:\n",
        "    # Log the error to the log file for other I/O errors\n",
        "    logging.error(f\"Error: {e} - An I/O error occurred.\")\n",
        "\n",
        "except Exception as e:\n",
        "    # Log any other unexpected errors\n",
        "    logging.error(f\"Unexpected error: {e}\")\n",
        "\n"
      ],
      "metadata": {
        "id": "KnyWTWY_w4xm"
      },
      "execution_count": null,
      "outputs": []
    }
  ]
}